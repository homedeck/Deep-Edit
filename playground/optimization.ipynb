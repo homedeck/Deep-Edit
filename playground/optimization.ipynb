{
 "metadata": {
  "language_info": {
   "codemirror_mode": {
    "name": "ipython",
    "version": 3
   },
   "file_extension": ".py",
   "mimetype": "text/x-python",
   "name": "python",
   "nbconvert_exporter": "python",
   "pygments_lexer": "ipython3",
   "version": 3
  },
  "orig_nbformat": 2
 },
 "nbformat": 4,
 "nbformat_minor": 2,
 "cells": [
  {
   "source": [
    "# Deep End-to-End Photo Editing\n",
    "We're taking a different approach from before: we want to design a pipeline that can be trained end-to-end on photo ediitng. We have a fixed forward model, the Lightroom model, and we need to learn a set of ediitng heuristics from a user-provided set of before-after pairs."
   ],
   "cell_type": "markdown",
   "metadata": {}
  },
  {
   "source": [
    "## Objective\n",
    "We begin with a set of pristine images $X$ and edited images $Y$, from which we build image pairs $(x, y), x \\in X, y \\in Y$. We seek a transformation $f(\\cdot): X \\mapsto Y$ which minimizes the *difference* between each $x$ and $y$. This objective function $g(\\cdot): X \\times Y \\mapsto \\mathbb{R}$ is a pseudosemimetric of image perceptual similarity. Choices include:\n",
    "- $L_1$ or $L_2$ distances.\n",
    "- [Perceptual loss](https://arxiv.org/pdf/1603.08155.pdf) by Johnson et al.\n",
    "- [Ensembled Learned Perceptual Image Patch Similarity](https://arxiv.org/pdf/1906.03973.pdf) by Kettunen et al."
   ],
   "cell_type": "markdown",
   "metadata": {}
  },
  {
   "source": [
    "## Forward\n",
    "We impose incredibly strong inductive biases on the forward model. We *know* the space of operators whose composition is the manifold of suitable transformations for this task. We use a subset of these operators, including:\n",
    "- Exposure\n",
    "- Contrast\n",
    "- Shadows\n",
    "- Highlights\n",
    "- Temperature\n",
    "- Tint\n",
    "- Yellow saturation\n",
    "- Local contrast"
   ],
   "cell_type": "markdown",
   "metadata": {}
  },
  {
   "cell_type": "code",
   "execution_count": null,
   "metadata": {},
   "outputs": [],
   "source": []
  }
 ]
}